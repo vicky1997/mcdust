{
 "cells": [
  {
   "cell_type": "markdown",
   "id": "d42d2f9a",
   "metadata": {},
   "source": [
    "## Visualising data from mcdust"
   ]
  },
  {
   "cell_type": "markdown",
   "id": "d0c547b6",
   "metadata": {},
   "source": [
    "In this notebook we show a way to make use of the helper python scripts and the routines to analyse and visualise data from mcdust.\n",
    "\n",
    "We import routines from the scripts mcdust.py"
   ]
  },
  {
   "cell_type": "code",
   "execution_count": 1,
   "id": "b722f6ac",
   "metadata": {},
   "outputs": [],
   "source": [
    "from mcdust import Simulation, Plots"
   ]
  },
  {
   "cell_type": "markdown",
   "id": "e6e68655",
   "metadata": {},
   "source": [
    "Let us also import some helper routines"
   ]
  },
  {
   "cell_type": "code",
   "execution_count": 2,
   "id": "88a2cfc3",
   "metadata": {},
   "outputs": [],
   "source": [
    "import numpy as np\n",
    "from astropy import constants as c\n",
    "from astropy import units as u\n",
    "from pathlib import Path"
   ]
  },
  {
   "cell_type": "markdown",
   "id": "012c5c49",
   "metadata": {},
   "source": [
    "The routines to read and store data from mcdust are stored in the Simulation() class, so let's start by defining a variable"
   ]
  },
  {
   "cell_type": "code",
   "execution_count": 3,
   "id": "f023012a",
   "metadata": {},
   "outputs": [],
   "source": [
    "sim = Simulation()"
   ]
  },
  {
   "cell_type": "markdown",
   "id": "0f5b0439",
   "metadata": {},
   "source": [
    "Next, to make use of the read function we need to establish the location of the data and give the same as an input."
   ]
  },
  {
   "cell_type": "code",
   "execution_count": 4,
   "id": "c12ad0f6",
   "metadata": {},
   "outputs": [
    {
     "name": "stdout",
     "output_type": "stream",
     "text": [
      "2DMC v0.1\n",
      "Author : Dr Joanna Drazkowska\n",
      "Please cite Drążkowska, Windmark & Dullemond (2013) A&A 556, A37\n",
      "Reading data ...\n"
     ]
    },
    {
     "name": "stderr",
     "output_type": "stream",
     "text": [
      "100%|█████████████████████████████████████████| 203/203 [02:19<00:00,  1.45it/s]\n"
     ]
    },
    {
     "name": "stdout",
     "output_type": "stream",
     "text": [
      "Done!\n"
     ]
    },
    {
     "name": "stderr",
     "output_type": "stream",
     "text": [
      "/scratch/vaikundaraman/mcdust_open/2DMC/scripts/mcdisk.py:208: RuntimeWarning: divide by zero encountered in true_divide\n",
      "  self.taugrowth = 1/self.dtg/self.omegaK[:]\n",
      "/scratch/vaikundaraman/mcdust_open/2DMC/scripts/mcdisk.py:209: RuntimeWarning: divide by zero encountered in true_divide\n",
      "  self.tmix = 1./(1e-3 * self.omegaK[:])\n",
      "/scratch/vaikundaraman/mcdust_open/2DMC/scripts/mcdisk.py:210: RuntimeWarning: invalid value encountered in true_divide\n",
      "  self.rhog_mid  = self.sigmag/np.sqrt(2*np.pi)/self.Hg\n"
     ]
    }
   ],
   "source": [
    "path='/scratch/vaikundaraman/2DMC/newbai/freshruns/globalsims/wind/fiducial/initmicrometre/'\n",
    "sim.read(path)"
   ]
  },
  {
   "cell_type": "markdown",
   "id": "89ca28c4",
   "metadata": {},
   "source": [
    "We have read data into the object `sim`. The object `sim` contains the data of the swarms of the simulation in `sim.swarms` and the parameters of the simulation in `sim.pars`.\n",
    "\n",
    "The object `sim.pars` contains the paramters of the simulation that was fed into `setup.par` to run the simulation. And along with those parameters, it also contains the number of swarms in the simulation `nswarms` and the number of outputs/snapshots of the simulation `ntime`.\n",
    "\n",
    "The attributes of `sim.pars` can be seen below"
   ]
  },
  {
   "cell_type": "code",
   "execution_count": 14,
   "id": "e72540ce",
   "metadata": {},
   "outputs": [
    {
     "data": {
      "text/plain": [
       "{'alpha_t': None,\n",
       " 'tgas': 200.0,\n",
       " 'sigmagas': 500.0,\n",
       " 'minr': 1.0,\n",
       " 'maxr': 50.0,\n",
       " 'a0': 0.0001,\n",
       " 'vfrag': 250.0,\n",
       " 'rho_s': 1.2,\n",
       " 'dtg': 0.01,\n",
       " 'erosion_m_ratio': 10.0,\n",
       " 't_end': None,\n",
       " 'nr': 128,\n",
       " 'nz': 32,\n",
       " 'n_cell': 256,\n",
       " 'nswarms': 1048576,\n",
       " 'ntime': 203,\n",
       " 'eta': None,\n",
       " 'alpha': 0.0003,\n",
       " 'datadir': '/scratch/vaikundaraman/2DMC/newbai/freshruns/globalsims/wind/fiducial/initmicrometre/data/'}"
      ]
     },
     "execution_count": 14,
     "metadata": {},
     "output_type": "execute_result"
    }
   ],
   "source": [
    "sim.pars.__dict__"
   ]
  },
  {
   "cell_type": "markdown",
   "id": "470d0879",
   "metadata": {},
   "source": [
    "The object`sim.swarms` contains the id number of the swarms, radial location[AU], vertical height[AU], Stokes Number, grain size[cm], internal density [g/cm^3], radial velocity [cm/s], vertical velocity [cm/s].\n",
    "\n",
    "The properties are stored in 2 dimensional arrays with indices [ntime,nswarms]. Along with these properties it also contains the mass of a whole swarm `mswarm`(g) and the times (yr) of the snapshots of the simulation."
   ]
  },
  {
   "cell_type": "code",
   "execution_count": 16,
   "id": "55d5be04",
   "metadata": {},
   "outputs": [
    {
     "data": {
      "text/plain": [
       "['St',\n",
       " '__class__',\n",
       " '__delattr__',\n",
       " '__dict__',\n",
       " '__dir__',\n",
       " '__doc__',\n",
       " '__eq__',\n",
       " '__format__',\n",
       " '__ge__',\n",
       " '__getattribute__',\n",
       " '__gt__',\n",
       " '__hash__',\n",
       " '__init__',\n",
       " '__init_subclass__',\n",
       " '__le__',\n",
       " '__lt__',\n",
       " '__module__',\n",
       " '__ne__',\n",
       " '__new__',\n",
       " '__reduce__',\n",
       " '__reduce_ex__',\n",
       " '__repr__',\n",
       " '__setattr__',\n",
       " '__sizeof__',\n",
       " '__str__',\n",
       " '__subclasshook__',\n",
       " '__weakref__',\n",
       " 'calculate_properties',\n",
       " 'describe',\n",
       " 'grain_size',\n",
       " 'idnr',\n",
       " 'indens',\n",
       " 'mass',\n",
       " 'mswarm',\n",
       " 'rdis',\n",
       " 'read_hdf5',\n",
       " 'sigmad',\n",
       " 'snapt',\n",
       " 'velr',\n",
       " 'velz',\n",
       " 'zdis']"
      ]
     },
     "execution_count": 16,
     "metadata": {},
     "output_type": "execute_result"
    }
   ],
   "source": [
    "dir(sim.swarms)"
   ]
  },
  {
   "cell_type": "markdown",
   "id": "69b21f4d",
   "metadata": {},
   "source": [
    "An overall basic statistics for the given simulation can be seen at a glance with `sim.swarms.describe()`"
   ]
  },
  {
   "cell_type": "code",
   "execution_count": 15,
   "id": "e7820577",
   "metadata": {},
   "outputs": [
    {
     "name": "stdout",
     "output_type": "stream",
     "text": [
      "           mass [g]     Stokes Nr  grain_size [cm]\n",
      "count  1.048576e+06  1.048576e+06     1.048576e+06\n",
      "mean   7.506150e-01  7.487609e-04     1.149241e-01\n",
      "std    4.569382e+00  1.295002e-03     3.120998e-01\n",
      "min    5.026548e-12  3.821193e-07     1.000000e-04\n",
      "25%    2.060885e-10  5.292453e-05     3.448217e-04\n",
      "50%    3.649274e-09  1.141253e-04     8.987637e-04\n",
      "75%    9.949336e-05  9.087791e-04     2.705047e-02\n",
      "max    1.273060e+02  1.099895e-02     2.936700e+00\n"
     ]
    }
   ],
   "source": [
    "sim.swarms.describe()"
   ]
  },
  {
   "cell_type": "markdown",
   "id": "0f755ca6",
   "metadata": {},
   "source": [
    "There is also a routine `sim.swarms.calculate_properties()` to calculate the dust surface density `sigma_d` for the simulation."
   ]
  },
  {
   "cell_type": "code",
   "execution_count": 10,
   "id": "b268fd13",
   "metadata": {
    "collapsed": true
   },
   "outputs": [
    {
     "ename": "AttributeError",
     "evalue": "'NoneType' object has no attribute '__dict__'",
     "output_type": "error",
     "traceback": [
      "\u001b[0;31m---------------------------------------------------------------------------\u001b[0m",
      "\u001b[0;31mAttributeError\u001b[0m                            Traceback (most recent call last)",
      "\u001b[0;32m/tmp/ipykernel_48506/1325880552.py\u001b[0m in \u001b[0;36m<module>\u001b[0;34m\u001b[0m\n\u001b[0;32m----> 1\u001b[0;31m \u001b[0msim2\u001b[0m\u001b[0;34m.\u001b[0m\u001b[0mswarms\u001b[0m\u001b[0;34m.\u001b[0m\u001b[0m__dict__\u001b[0m\u001b[0;34m\u001b[0m\u001b[0;34m\u001b[0m\u001b[0m\n\u001b[0m",
      "\u001b[0;31mAttributeError\u001b[0m: 'NoneType' object has no attribute '__dict__'"
     ]
    }
   ],
   "source": []
  },
  {
   "cell_type": "code",
   "execution_count": null,
   "id": "ab069341",
   "metadata": {},
   "outputs": [],
   "source": []
  }
 ],
 "metadata": {
  "kernelspec": {
   "display_name": "Python 3 (ipykernel)",
   "language": "python",
   "name": "python3"
  },
  "language_info": {
   "codemirror_mode": {
    "name": "ipython",
    "version": 3
   },
   "file_extension": ".py",
   "mimetype": "text/x-python",
   "name": "python",
   "nbconvert_exporter": "python",
   "pygments_lexer": "ipython3",
   "version": "3.9.13"
  }
 },
 "nbformat": 4,
 "nbformat_minor": 5
}
